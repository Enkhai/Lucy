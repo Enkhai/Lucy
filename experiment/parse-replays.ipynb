{
 "cells": [
  {
   "cell_type": "code",
   "execution_count": 1,
   "metadata": {},
   "outputs": [],
   "source": [
    "import sys\n",
    "from pathlib import Path\n",
    "\n",
    "# Modify this as you wish, used for importing custom project packages, such as `utils`\n",
    "project_path = str(Path.home()) + \"\\\\Projects\\\\rlgym_demo\"\n",
    "\n",
    "sys.path.insert(0, project_path)"
   ]
  },
  {
   "cell_type": "code",
   "execution_count": 2,
   "metadata": {},
   "outputs": [],
   "source": [
    "import numpy as np\n",
    "import pandas as pd\n",
    "from rlgym_tools.extra_state_setters.replay_setter import ReplaySetter\n",
    "import os"
   ]
  },
  {
   "cell_type": "code",
   "execution_count": 3,
   "metadata": {},
   "outputs": [],
   "source": [
    "replay_folder = \"../replay-samples/2v2/\""
   ]
  },
  {
   "cell_type": "code",
   "execution_count": 4,
   "metadata": {},
   "outputs": [
    {
     "name": "stdout",
     "output_type": "stream",
     "text": [
      "../replay-samples/2v2/0a47f3f9-949c-46b9-946b-21ed5a411645.replay done\n",
      "../replay-samples/2v2/142a06b3-2948-4735-bcad-60f0a112ff09.replay done\n",
      "../replay-samples/2v2/439e3d75-af99-4d64-9af1-3c98e9a2d0c1.replay done\n",
      "../replay-samples/2v2/65236a05-09eb-409b-b2b2-b2b1bb07fc89.replay done\n",
      "../replay-samples/2v2/8c121fc5-d194-4ce7-8b1a-215234372732.replay done\n",
      "../replay-samples/2v2/c3686bd1-70ae-40c6-bd13-891f68df2ea9.replay done\n"
     ]
    },
    {
     "data": {
      "text/plain": [
       "array([[ 5.70539978e+02,  2.95299988e+02,  3.41269989e+02, ...,\n",
       "         4.33559998e+00, -2.61350006e+00,  1.01960784e-01],\n",
       "       [ 3.08547998e+03,  1.00587000e+03,  6.22530029e+02, ...,\n",
       "        -8.14100037e-01,  2.18999996e-01,  9.21568627e-01],\n",
       "       [ 3.22797998e+03,  2.62130005e+03,  1.91000000e+02, ...,\n",
       "         3.99999991e-04, -1.21739998e+00,  6.98039216e-01],\n",
       "       ...,\n",
       "       [ 2.41562988e+03, -4.94516016e+03,  1.02868994e+03, ...,\n",
       "         0.00000000e+00,  0.00000000e+00,  0.00000000e+00],\n",
       "       [-1.03213000e+03, -2.50361011e+03,  6.54369995e+02, ...,\n",
       "         0.00000000e+00,  0.00000000e+00,  0.00000000e+00],\n",
       "       [ 1.20335999e+03,  9.04010010e+02,  1.56330002e+02, ...,\n",
       "         0.00000000e+00,  0.00000000e+00,  0.00000000e+00]])"
      ]
     },
     "execution_count": 4,
     "metadata": {},
     "output_type": "execute_result"
    }
   ],
   "source": [
    "ReplaySetter.convert_replays([replay_folder + f\n",
    "                              for f in os.listdir(replay_folder) \n",
    "                              if f.endswith(\".replay\")],\n",
    "                             verbose=1, output_location=replay_folder + \"states.npy\")"
   ]
  },
  {
   "cell_type": "code",
   "execution_count": null,
   "metadata": {},
   "outputs": [],
   "source": []
  }
 ],
 "metadata": {
  "kernelspec": {
   "display_name": "Python 3 (ipykernel)",
   "language": "python",
   "name": "python3"
  },
  "language_info": {
   "codemirror_mode": {
    "name": "ipython",
    "version": 3
   },
   "file_extension": ".py",
   "mimetype": "text/x-python",
   "name": "python",
   "nbconvert_exporter": "python",
   "pygments_lexer": "ipython3",
   "version": "3.8.12"
  }
 },
 "nbformat": 4,
 "nbformat_minor": 1
}
